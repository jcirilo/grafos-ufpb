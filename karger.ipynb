{
 "cells": [
  {
   "cell_type": "code",
   "execution_count": null,
   "metadata": {},
   "outputs": [],
   "source": [
    "from copy import deepcopy\n",
    "from graph import Graph\n",
    "import random\n",
    "import sys\n",
    "import math\n",
    "import matplotlib.pyplot as plt"
   ]
  },
  {
   "cell_type": "markdown",
   "metadata": {},
   "source": [
    "# Karger"
   ]
  },
  {
   "cell_type": "code",
   "execution_count": null,
   "metadata": {},
   "outputs": [],
   "source": [
    "def karger(graph):\n",
    "    while len(graph) > 2:\n",
    "        v = random.choice(list(graph.keys()))\n",
    "        w = random.choice(graph[v])\n",
    "        union(graph, v, w)\n",
    "    return len(list(graph.values())[0])\n",
    "\n",
    "def union(graph, v, w):\n",
    "    for node in graph[w]:\n",
    "        if node != v:\n",
    "            graph[v].append(node)\n",
    "        graph[node].remove(w)\n",
    "        if node != v:\n",
    "            graph[node].append(v)\n",
    "    del graph[w]\n",
    "\n",
    "def karger_iter(graph, iter):\n",
    "    minCut = sys.maxsize;\n",
    "    cut    = sys.maxsize;\n",
    "    for _ in range(iter):\n",
    "        G = deepcopy(graph)\n",
    "        cut = karger(G)\n",
    "        if cut < minCut:\n",
    "            minCut = cut\n",
    "    return minCut\n"
   ]
  },
  {
   "cell_type": "markdown",
   "metadata": {},
   "source": [
    "# Ingênuo"
   ]
  },
  {
   "cell_type": "code",
   "execution_count": null,
   "metadata": {},
   "outputs": [],
   "source": [
    "def naive(graph):\n",
    "    min_cut = float('inf')\n",
    "    for _ in range(len(graph)):\n",
    "        i = random.randint(0, len(graph))\n",
    "        cut = len(graph[i])\n",
    "        if cut < min_cut:\n",
    "            min_cut = cut\n",
    "    return min_cut\n",
    "\n",
    "def naive_iter(graph, iter):\n",
    "    minCut = sys.maxsize;\n",
    "    cut    = sys.maxsize;\n",
    "    for _ in range(iter):\n",
    "        G = deepcopy(graph)\n",
    "        cut = naive(G)\n",
    "        if cut < minCut:\n",
    "            minCut = cut\n",
    "    return minCut"
   ]
  },
  {
   "cell_type": "markdown",
   "metadata": {},
   "source": [
    "# Rodando Kaarger `Nexec` vezes para obter o provavel corte mínimo"
   ]
  },
  {
   "cell_type": "code",
   "execution_count": null,
   "metadata": {},
   "outputs": [],
   "source": [
    "def cutInNexec(G, Nexec):\n",
    "    expectedCut = sys.maxsize\n",
    "    auxCut = 0\n",
    "    for _ in range(Nexec):\n",
    "        auxCut = karger_iter(G, 10)\n",
    "        if auxCut < expectedCut:\n",
    "            expectedCut = auxCut\n",
    "    return expectedCut"
   ]
  },
  {
   "cell_type": "markdown",
   "metadata": {},
   "source": [
    "# `Niter` e teste empírico\n",
    "\n",
    "Segundo os slides, uma generalização para o aumento da probabilidade de corte mínimo é $T = (\\frac{n}{2})\\cdot\\log{(\\frac{1}{\\alpha})}$, onde $n$ é a quantidade de vértices e $\\alpha = (0,1)$. Então nosso `Niter` será $T$ e o $\\alpha$ terá um ajuste manual para cada grafo.\n",
    "\n",
    "Tabela de $\\alpha$\n",
    "\n",
    "| Grafo         | $\\alpha$|\n",
    "|   ---         | --- |\n",
    "| graph_type1_2 | 0.3 |\n",
    "| graph_type1_3 | 0.4 |\n",
    "| graph_type2_1 | 0.3 |\n",
    "| graph_type2_2 | 0.2 |"
   ]
  },
  {
   "cell_type": "code",
   "execution_count": null,
   "metadata": {},
   "outputs": [],
   "source": [
    "def calcProb(G, alpha):\n",
    "    Nexec       = 10_000\n",
    "    Niter       = math.ceil((len(G)/2)*math.log(1/alpha))\n",
    "    expectedCut = cutInNexec(G, Nexec)\n",
    "\n",
    "    probKarger  = [0.0 for _ in range(Niter)]\n",
    "    probNaive   = [0.0 for _ in range(Niter)]\n",
    "\n",
    "    for iter in range(Niter):\n",
    "        for _ in range(Nexec):\n",
    "            cut = karger_iter(G, iter)\n",
    "            if cut == expectedCut:\n",
    "                probKarger[iter] += 1\n",
    "            cut = naive_iter(G, iter)\n",
    "        probKarger[iter] /= Nexec\n",
    "\n",
    "    for iter in range(Niter):\n",
    "        for _ in range(Nexec):\n",
    "            cut = naive_iter(G, iter)\n",
    "            if cut < expectedCut:\n",
    "                probNaive[iter] += 1\n",
    "        probNaive[iter] /= Nexec\n",
    "    return probKarger, probNaive\n"
   ]
  },
  {
   "cell_type": "markdown",
   "metadata": {},
   "source": [
    "# Plotando Graficos"
   ]
  },
  {
   "cell_type": "code",
   "execution_count": null,
   "metadata": {},
   "outputs": [],
   "source": [
    "def plotarProb(dataKarger, dataIngenuo, titulo):\n",
    "    plt.plot(dataKarger, color=\"blue\", label=\"Karger\")\n",
    "    plt.plot(dataIngenuo, color=\"orange\", label=\"Ingênuo\")\n",
    "    plt.legend()\n",
    "    plt.title(f\"probabilidade empírica do grafo \\\"{titulo}\\\"\")\n",
    "    plt.xlabel( \"N iter\" )\n",
    "    plt.ylabel( \"Sucesso da Probabilidade empírica\")\n",
    "    plt.grid()\n",
    "    plt.show()"
   ]
  },
  {
   "cell_type": "code",
   "execution_count": null,
   "metadata": {},
   "outputs": [],
   "source": [
    "probKarger, probNaive = calcProb(Graph('in/p3/graph_type1_1').get_adj_list_as_dict(), 0.6)\n",
    "plotarProb(probKarger, probNaive, 'graph_type1_1')"
   ]
  },
  {
   "cell_type": "code",
   "execution_count": null,
   "metadata": {},
   "outputs": [],
   "source": [
    "probKarger, probNaive = calcProb(Graph('in/p3/graph_type1_2').get_adj_list_as_dict(), 0.4)\n",
    "plotarProb(probKarger, probNaive, 'graph_type1_2')"
   ]
  },
  {
   "cell_type": "code",
   "execution_count": null,
   "metadata": {},
   "outputs": [],
   "source": [
    "probKarger, probNaive = calcProb(Graph('in/p3/graph_type1_3').get_adj_list_as_dict(), 0.9)\n",
    "plotarProb(probKarger, probNaive, 'graph_type1_3')"
   ]
  },
  {
   "cell_type": "code",
   "execution_count": null,
   "metadata": {},
   "outputs": [],
   "source": [
    "probKarger, probNaive = calcProb(Graph('in/p3/graph_type2_1').get_adj_list_as_dict(), 0.3)\n",
    "plotarProb(probKarger, probNaive, 'graph_type2_1')"
   ]
  },
  {
   "cell_type": "code",
   "execution_count": null,
   "metadata": {},
   "outputs": [],
   "source": [
    "probKarger, probNaive = calcProb(Graph('in/p3/graph_type2_2').get_adj_list_as_dict(), 0.3)\n",
    "plotarProb(probKarger, probNaive, 'graph_type2_2')"
   ]
  },
  {
   "cell_type": "code",
   "execution_count": null,
   "metadata": {},
   "outputs": [],
   "source": [
    "probKarger, probNaive = calcProb(Graph('in/p3/graph_type2_3').get_adj_list_as_dict(), 0.3)\n",
    "plotarProb(probKarger, probNaive, 'graph_type2_3')"
   ]
  }
 ],
 "metadata": {
  "kernelspec": {
   "display_name": "Python 3",
   "language": "python",
   "name": "python3"
  },
  "language_info": {
   "codemirror_mode": {
    "name": "ipython",
    "version": 3
   },
   "file_extension": ".py",
   "mimetype": "text/x-python",
   "name": "python",
   "nbconvert_exporter": "python",
   "pygments_lexer": "ipython3",
   "version": "3.12.0"
  }
 },
 "nbformat": 4,
 "nbformat_minor": 2
}
